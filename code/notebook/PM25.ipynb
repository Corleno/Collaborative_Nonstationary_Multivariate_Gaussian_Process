{
 "cells": [
  {
   "cell_type": "code",
   "execution_count": 2,
   "metadata": {
    "collapsed": true
   },
   "outputs": [],
   "source": [
    "import numpy as np\n",
    "import pandas as pd\n",
    "\n",
    "import pickle"
   ]
  },
  {
   "cell_type": "code",
   "execution_count": 3,
   "outputs": [],
   "source": [
    "# load data\n",
    "data_dir = \"../../data/PM25/FiveCitiePMData/BeijingPM20100101_20151231.csv\"\n",
    "df = pd.read_csv(data_dir)\n"
   ],
   "metadata": {
    "collapsed": false,
    "pycharm": {
     "name": "#%%\n"
    }
   }
  },
  {
   "cell_type": "code",
   "execution_count": 4,
   "outputs": [
    {
     "name": "stdout",
     "output_type": "stream",
     "text": [
      "total attributes: Index(['No', 'year', 'month', 'day', 'hour', 'season', 'PM_Dongsi',\n",
      "       'PM_Dongsihuan', 'PM_Nongzhanguan', 'PM_US Post', 'DEWP', 'HUMI',\n",
      "       'PRES', 'TEMP', 'cbwd', 'Iws', 'precipitation', 'Iprec'],\n",
      "      dtype='object')\n"
     ]
    }
   ],
   "source": [
    "N = df.shape[0]\n",
    "print(\"total attributes:\", df.columns)"
   ],
   "metadata": {
    "collapsed": false,
    "pycharm": {
     "name": "#%%\n"
    }
   }
  },
  {
   "cell_type": "code",
   "execution_count": 5,
   "outputs": [],
   "source": [
    "from sklearn import preprocessing\n",
    "attributes = ['PM_US Post', 'DEWP', 'HUMI', 'PRES', 'TEMP', 'Iws']\n",
    "n_attributes = len(attributes)\n",
    "# convert dataframe to list and standardize data\n",
    "\n",
    "X_list = list()\n",
    "Y_list = list()\n",
    "for i, attribute in enumerate(attributes):\n",
    "    index = np.where(~np.isnan(df[attribute]))\n",
    "    X_list.append(df['No'].to_numpy()[index])\n",
    "    Y_list.append(preprocessing.scale(df[attribute].to_numpy()[index]))\n",
    "\n",
    "dfsub = df.copy().iloc[:5000, :]\n",
    "Xsub_list = list()\n",
    "Ysub_list = list()\n",
    "for i, attribute in enumerate(attributes):\n",
    "    index = np.where(~np.isnan(dfsub[attribute]))[0]\n",
    "    Xsub_list.append(dfsub['No'].to_numpy()[index])\n",
    "    Ysub_list.append(preprocessing.scale(dfsub[attribute].to_numpy()[index]))"
   ],
   "metadata": {
    "collapsed": false,
    "pycharm": {
     "name": "#%%\n"
    }
   }
  },
  {
   "cell_type": "code",
   "execution_count": 6,
   "outputs": [
    {
     "name": "stdout",
     "output_type": "stream",
     "text": [
      "attribute: PM_US Post, number: 50387\n",
      "attribute: DEWP, number: 52579\n",
      "attribute: HUMI, number: 52245\n",
      "attribute: PRES, number: 52245\n",
      "attribute: TEMP, number: 52579\n",
      "attribute: Iws, number: 52579\n"
     ]
    }
   ],
   "source": [
    "for i, attribute in enumerate(attributes):\n",
    "    print(\"attribute: {}, number: {}\".format(attribute, X_list[i].shape[0]))"
   ],
   "metadata": {
    "collapsed": false,
    "pycharm": {
     "name": "#%%\n"
    }
   }
  },
  {
   "cell_type": "code",
   "execution_count": 7,
   "outputs": [
    {
     "name": "stdout",
     "output_type": "stream",
     "text": [
      "training size: (302537,)\n",
      "testing size: (10077,)\n"
     ]
    }
   ],
   "source": [
    "N_PM = X_list[0].shape[0]\n",
    "test_index = np.random.choice(N_PM, int(0.2*N_PM), replace=False)\n",
    "train_index = np.array(list(set(np.arange(N_PM)) - set(test_index)))\n",
    "Xtrain_list = [X_list[0][train_index], X_list[1], X_list[2], X_list[3], X_list[4], X_list[5]]\n",
    "Ytrain_list = [Y_list[0][train_index], Y_list[1], Y_list[2], Y_list[3], Y_list[4], Y_list[5]]\n",
    "Xtest_list = [X_list[0][test_index], np.array([]), np.array([]), np.array([]), np.array([]), np.array([])]\n",
    "Ytest_list = [Y_list[0][test_index], np.array([]), np.array([]), np.array([]), np.array([]), np.array([])]\n",
    "with open(\"../../data/PM25/data.pickle\", \"wb\") as res:\n",
    "    pickle.dump([Xtrain_list, Ytrain_list, Xtest_list, Ytest_list], res)\n",
    "print(\"training size: {}\".format(np.concatenate(Xtrain_list).shape))\n",
    "print(\"testing size: {}\".format(np.concatenate(Xtest_list).shape))"
   ],
   "metadata": {
    "collapsed": false,
    "pycharm": {
     "name": "#%% We extract 20% of PM as training data and let others as testing data\n"
    }
   }
  },
  {
   "cell_type": "code",
   "execution_count": 8,
   "outputs": [
    {
     "name": "stdout",
     "output_type": "stream",
     "text": [
      "training size: (28768,)\n",
      "testing size: (942,)\n"
     ]
    }
   ],
   "source": [
    "N_PMsub = Xsub_list[0].shape[0]\n",
    "testsub_index = np.random.choice(N_PMsub, int(0.2*N_PMsub), replace=False)\n",
    "trainsub_index = np.array(list(set(np.arange(N_PMsub)) - set(testsub_index)))\n",
    "Xtrainsub_list = [Xsub_list[0][trainsub_index], Xsub_list[1], Xsub_list[2], Xsub_list[3], Xsub_list[4], Xsub_list[5]]\n",
    "Ytrainsub_list = [Ysub_list[0][trainsub_index], Ysub_list[1], Ysub_list[2], Ysub_list[3], Ysub_list[4], Ysub_list[5]]\n",
    "Xtestsub_list = [Xsub_list[0][testsub_index], np.array([]), np.array([]), np.array([]), np.array([]), np.array([])]\n",
    "Ytestsub_list = [Ysub_list[0][testsub_index], np.array([]), np.array([]), np.array([]), np.array([]), np.array([])]\n",
    "with open(\"../../data/PM25/subdata.pickle\", \"wb\") as res:\n",
    "    pickle.dump([Xtrainsub_list, Ytrainsub_list, Xtestsub_list, Ytestsub_list], res)\n",
    "print(\"training size: {}\".format(np.concatenate(Xtrainsub_list).shape))\n",
    "print(\"testing size: {}\".format(np.concatenate(Xtestsub_list).shape))"
   ],
   "metadata": {
    "collapsed": false,
    "pycharm": {
     "name": "#%% We extract 20% of a subset of PM as training data and let others as testing data\n"
    }
   }
  },
  {
   "cell_type": "code",
   "execution_count": 9,
   "outputs": [
    {
     "data": {
      "text/plain": "4710"
     },
     "execution_count": 9,
     "metadata": {},
     "output_type": "execute_result"
    }
   ],
   "source": [
    "N_PMsub"
   ],
   "metadata": {
    "collapsed": false,
    "pycharm": {
     "name": "#%%\n"
    }
   }
  }
 ],
 "metadata": {
  "kernelspec": {
   "display_name": "Python 3",
   "language": "python",
   "name": "python3"
  },
  "language_info": {
   "codemirror_mode": {
    "name": "ipython",
    "version": 2
   },
   "file_extension": ".py",
   "mimetype": "text/x-python",
   "name": "python",
   "nbconvert_exporter": "python",
   "pygments_lexer": "ipython2",
   "version": "2.7.6"
  }
 },
 "nbformat": 4,
 "nbformat_minor": 0
}