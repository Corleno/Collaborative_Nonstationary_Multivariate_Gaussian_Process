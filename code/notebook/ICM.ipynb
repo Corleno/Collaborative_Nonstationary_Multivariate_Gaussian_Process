{
 "cells": [
  {
   "cell_type": "code",
   "execution_count": 2,
   "metadata": {},
   "outputs": [],
   "source": [
    "import os\n",
    "import numpy as np\n",
    "import pickle\n",
    "import matplotlib.pyplot as plt\n",
    "import GPy\n",
    "\n",
    "import sys\n",
    "sys.path.append('..')\n",
    "from nmgp_dsvi import *"
   ]
  },
  {
   "cell_type": "code",
   "execution_count": 15,
   "outputs": [],
   "source": [
    "def ICM(data, do_plot_raw_data=False, do_plot_post_process=False):\n",
    "    if not os.path.exists(\"../../res/sim_VI/{}\".format(data)):\n",
    "        os.mkdir(\"../../res/sim_VI/{}\".format(data))\n",
    "\n",
    "    # Upload Data\n",
    "    with open(\"../../data/simulation/\" + data +  \".pickle\", \"rb\") as res:\n",
    "        X_list, Y_list, Xt_list, Yt_list = pickle.load(res)\n",
    "\n",
    "    if do_plot_raw_data:\n",
    "        fig = plt.figure()\n",
    "        ax1 = fig.add_subplot(211)\n",
    "        ax1.set_title('Output 1')\n",
    "        ax1.plot(X_list[0], Y_list[0],'kx',mew=1.5,label='Train set')\n",
    "        ax1.plot(Xt_list[0], Yt_list[0],'rx',mew=1.5,label='Test set')\n",
    "        ax1.legend()\n",
    "        ax2 = fig.add_subplot(212)\n",
    "        ax2.set_title('Output 2')\n",
    "        ax2.plot(X_list[1], Y_list[1],'kx',mew=1.5,label='Train set')\n",
    "        ax2.plot(Xt_list[1], Yt_list[1],'rx',mew=1.5,label='Test set')\n",
    "        ax2.legend()\n",
    "\n",
    "    K = GPy.kern.Exponential(1)\n",
    "    icm = GPy.util.multioutput.ICM(input_dim=1,num_outputs=2,kernel=K)\n",
    "    m = GPy.models.GPCoregionalizedRegression(X_list,Y_list,kernel=icm)\n",
    "    m['.*Exponential.var'].constrain_fixed(1.) #For this kernel, B.kappa encodes the variance now.\n",
    "    m.optimize()\n",
    "\n",
    "    grids = np.linspace(0, 1, 200)[:, None]\n",
    "    test_index = np.concatenate([i*np.ones_like(Xt_list[i]) for i in range(2)]).astype(int)\n",
    "    trainX = np.vstack([np.hstack([X_list[i], np.ones_like(X_list[i])*i]) for i in range(2)])\n",
    "    train_dict = {'output_index':trainX[:,1].astype(int)}\n",
    "    est_Y_train = m.predict(trainX, Y_metadata=train_dict)[0]\n",
    "    newX1 = np.hstack([grids, np.zeros_like(grids)])\n",
    "    newX2 = np.hstack([grids, np.ones_like(grids)])\n",
    "    newX = np.vstack([newX1, newX2])\n",
    "    noise_dict = {'output_index':newX[:,1].astype(int)}\n",
    "    gridy_Y = np.hstack(m.predict_quantiles(newX, quantiles=(2.5, 50, 97.5), Y_metadata=noise_dict)).T\n",
    "    newXt = np.vstack([np.hstack([Xt_list[i], np.ones_like(Xt_list[i])*i]) for i in range(2)])\n",
    "    noise_dictt = {'output_index':newXt[:,1].astype(int)}\n",
    "    quantiles_Y_test = np.hstack(m.predict_quantiles(newXt, quantiles=(2.5, 50, 97.5), Y_metadata=noise_dictt)).T\n",
    "    est_Y_test = m.predict(newXt, Y_metadata=noise_dictt)[0]\n",
    "\n",
    "    dir_name = \"../../res/sim_VI/{}/\".format(data)\n",
    "    name = \"ICM.png\"\n",
    "    if do_plot_post_process:\n",
    "        plot(2, X_list, Y_list, Xt_list, Yt_list, test_index, est_Y_test, grids, gridy_Y, dir_name, name)\n",
    "\n",
    "    dim_outputs = 2\n",
    "    Y_train = np.vstack(Y_list)\n",
    "    Y_test = np.vstack(Yt_list)\n",
    "    # analysis\n",
    "    # print(data)\n",
    "    rmse_train = np.sqrt(np.mean((est_Y_train - Y_train) ** 2))\n",
    "    predy_quantiles = quantiles_Y_test\n",
    "    length_test = np.mean(predy_quantiles[2] - predy_quantiles[0])\n",
    "    rmse_test = np.sqrt(np.mean((est_Y_test - Y_test) ** 2))\n",
    "    # print(\"rmse_reconstruction: {}\".format(rmse_train))\n",
    "    # print(\"rmse_predtiction: {}\".format(rmse_test))\n",
    "    # print(\"average length of CI: {}\".format(length_test))\n",
    "    # import pdb; pdb.set_trace()\n",
    "    # compute coverage rate\n",
    "    CN = np.zeros(dim_outputs)\n",
    "    TT = np.zeros(dim_outputs)\n",
    "    for i in range(Y_test.shape[0]):\n",
    "        if Y_test[i] > predy_quantiles[0, i] and Y_test[i] < predy_quantiles[2, i]:\n",
    "            CN[test_index[i]] += 1\n",
    "        TT[test_index[i]] += 1\n",
    "    CR = CN/TT\n",
    "    # print(\"coverage rate\", CR)\n",
    "        # import pdb; pdb.set_trace()\n",
    "    return rmse_train, rmse_test, length_test, CR"
   ],
   "metadata": {
    "collapsed": false,
    "pycharm": {
     "name": "#%%\n"
    }
   }
  },
  {
   "cell_type": "code",
   "execution_count": 16,
   "outputs": [
    {
     "name": "stdout",
     "output_type": "stream",
     "text": [
      "rmse_predtiction: 1.6603599961452047 0.002365771235683471\n",
      "average length of CI: 3.1636427112767853 0.0014851749147247481\n",
      "coverage rate: 0.8795 0.0015000000000000013\n"
     ]
    }
   ],
   "source": [
    "data = \"sim_illustration_varying_freq\"\n",
    "\n",
    "rmse_test_list = list()\n",
    "length_test_list = list()\n",
    "CR_list = list()\n",
    "for i in range(10):\n",
    "    rmse_train, rmse_test, length_test, CR = ICM(data)\n",
    "    rmse_test_list.append(rmse_test)\n",
    "    length_test_list.append(length_test)\n",
    "    CR_list.append(CR.mean())\n",
    "rmse_test_array = np.array(rmse_test_list)\n",
    "length_test_array = np.array(length_test_list)\n",
    "CR_array = np.array(CR_list)\n",
    "print(\"rmse_predtiction:\", rmse_test_array.mean(), rmse_test_array.std())\n",
    "print(\"average length of CI:\", length_test_array.mean(), length_test_array.std())\n",
    "print(\"coverage rate:\", CR_array.mean(), CR_array.std())"
   ],
   "metadata": {
    "collapsed": false,
    "pycharm": {
     "name": "#%%\n"
    }
   }
  },
  {
   "cell_type": "code",
   "execution_count": 17,
   "outputs": [
    {
     "name": "stdout",
     "output_type": "stream",
     "text": [
      "rmse_predtiction: 2.263080672853686 2.5391981031964657e-05\n",
      "average length of CI: 2.178777096129261 1.2223994996957734e-05\n",
      "coverage rate: 0.835 0.0\n"
     ]
    }
   ],
   "source": [
    "data = \"sim_illustration_low_freq\"\n",
    "\n",
    "rmse_test_list = list()\n",
    "length_test_list = list()\n",
    "CR_list = list()\n",
    "for i in range(10):\n",
    "    rmse_train, rmse_test, length_test, CR = ICM(data)\n",
    "    rmse_test_list.append(rmse_test)\n",
    "    length_test_list.append(length_test)\n",
    "    CR_list.append(CR.mean())\n",
    "rmse_test_array = np.array(rmse_test_list)\n",
    "length_test_array = np.array(length_test_list)\n",
    "CR_array = np.array(CR_list)\n",
    "print(\"rmse_predtiction:\", rmse_test_array.mean(), rmse_test_array.std())\n",
    "print(\"average length of CI:\", length_test_array.mean(), length_test_array.std())\n",
    "print(\"coverage rate:\", CR_array.mean(), CR_array.std())"
   ],
   "metadata": {
    "collapsed": false,
    "pycharm": {
     "name": "#%%\n"
    }
   }
  },
  {
   "cell_type": "code",
   "execution_count": 18,
   "outputs": [
    {
     "name": "stdout",
     "output_type": "stream",
     "text": [
      "rmse_predtiction: 1.5196469276196278 1.0081086647927932e-05\n",
      "average length of CI: 3.169413829509468 1.190460480287905e-05\n",
      "coverage rate: 0.9099999999999999 0.0\n"
     ]
    }
   ],
   "source": [
    "data = \"sim_illustration_high_freq\"\n",
    "\n",
    "rmse_test_list = list()\n",
    "length_test_list = list()\n",
    "CR_list = list()\n",
    "for i in range(10):\n",
    "    rmse_train, rmse_test, length_test, CR = ICM(data)\n",
    "    rmse_test_list.append(rmse_test)\n",
    "    length_test_list.append(length_test)\n",
    "    CR_list.append(CR.mean())\n",
    "rmse_test_array = np.array(rmse_test_list)\n",
    "length_test_array = np.array(length_test_list)\n",
    "CR_array = np.array(CR_list)\n",
    "print(\"rmse_predtiction:\", rmse_test_array.mean(), rmse_test_array.std())\n",
    "print(\"average length of CI:\", length_test_array.mean(), length_test_array.std())\n",
    "print(\"coverage rate:\", CR_array.mean(), CR_array.std())"
   ],
   "metadata": {
    "collapsed": false,
    "pycharm": {
     "name": "#%%\n"
    }
   }
  },
  {
   "cell_type": "code",
   "execution_count": null,
   "outputs": [],
   "source": [],
   "metadata": {
    "collapsed": false,
    "pycharm": {
     "name": "#%%"
    }
   }
  }
 ],
 "metadata": {
  "kernelspec": {
   "display_name": "Python 3",
   "language": "python",
   "name": "python3"
  },
  "language_info": {
   "codemirror_mode": {
    "name": "ipython",
    "version": 3
   },
   "file_extension": ".py",
   "mimetype": "text/x-python",
   "name": "python",
   "nbconvert_exporter": "python",
   "pygments_lexer": "ipython3",
   "version": "3.7.3"
  }
 },
 "nbformat": 4,
 "nbformat_minor": 2
}