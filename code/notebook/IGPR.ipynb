{
 "cells": [
  {
   "cell_type": "code",
   "execution_count": 2,
   "metadata": {
    "collapsed": true
   },
   "outputs": [],
   "source": [
    "import os\n",
    "import argparse\n",
    "import numpy as np\n",
    "import pickle\n",
    "from sklearn.model_selection import train_test_split\n",
    "import matplotlib.pyplot as plt\n",
    "import GPy\n",
    "\n",
    "import sys\n",
    "sys.path.append('..')\n",
    "from nmgp_dsvi import *"
   ]
  },
  {
   "cell_type": "code",
   "execution_count": 34,
   "outputs": [],
   "source": [
    "def GPR(data, do_plot_raw_data=False, do_plot_post_process=False):\n",
    "    if not os.path.exists(\"../../res/sim_VI/{}\".format(data)):\n",
    "            os.mkdir(\"../../res/sim_VI/{}\".format(data))\n",
    "\n",
    "    # Upload Data\n",
    "    with open(\"../../data/simulation/\" + data +  \".pickle\", \"rb\") as res:\n",
    "        X_list, Y_list, Xt_list, Yt_list = pickle.load(res)\n",
    "\n",
    "    if do_plot_raw_data:\n",
    "        fig = plt.figure()\n",
    "        ax1 = fig.add_subplot(211)\n",
    "        ax1.set_title('Output 1')\n",
    "        ax1.plot(X_list[0], Y_list[0],'kx',mew=1.5,label='Train set')\n",
    "        ax1.plot(Xt_list[0], Yt_list[0],'rx',mew=1.5,label='Test set')\n",
    "        ax1.legend()\n",
    "        ax2 = fig.add_subplot(212)\n",
    "        ax2.set_title('Output 2')\n",
    "        ax2.plot(X_list[1], Y_list[1],'kx',mew=1.5,label='Train set')\n",
    "        ax2.plot(Xt_list[1], Yt_list[1],'rx',mew=1.5,label='Test set')\n",
    "        ax2.legend()\n",
    "\n",
    "    K = GPy.kern.Exponential(1)\n",
    "    m1 = GPy.models.GPRegression(X_list[0], Y_list[0], kernel=K.copy())\n",
    "    m1.optimize()\n",
    "    m2 = GPy.models.GPRegression(X_list[1], Y_list[1], kernel=K.copy())\n",
    "    m2.optimize()\n",
    "\n",
    "    grids = np.linspace(0, 1, 200)[:, None]\n",
    "    test_index = np.concatenate([i*np.ones_like(Xt_list[i]) for i in range(2)]).astype(int)\n",
    "\n",
    "    est_Y_train1 = m1.predict(X_list[0])[0]\n",
    "    est_Y_train2 = m2.predict(X_list[1])[0]\n",
    "    est_Y_train = np.vstack([est_Y_train1, est_Y_train2])\n",
    "    est_Y_test1 = m1.predict(Xt_list[0])[0]\n",
    "    est_Y_test2 = m2.predict(Xt_list[1])[0]\n",
    "    est_Y_test = np.vstack([est_Y_test1, est_Y_test2])\n",
    "    quantiles_grid_Y1 = np.hstack(m1.predict_quantiles(grids, quantiles=(2.5, 50, 97.5))).T\n",
    "    quantiles_grid_Y2 = np.hstack(m2.predict_quantiles(grids, quantiles=(2.5, 50, 97.5))).T\n",
    "    quantiles_grid_Y = np.hstack([quantiles_grid_Y1, quantiles_grid_Y2])\n",
    "    quantiles_test_Y1 = np.hstack(m1.predict_quantiles(Xt_list[0], quantiles=(2.5, 97.5))).T\n",
    "    quantiles_test_Y2 = np.hstack(m2.predict_quantiles(Xt_list[1], quantiles=(2.5, 97.5))).T\n",
    "    quantiles_test_Y = np.hstack([quantiles_test_Y1, quantiles_test_Y2])\n",
    "\n",
    "    dir_name = \"../../res/sim_VI/{}/\".format(data)\n",
    "    name = \"GPR.png\"\n",
    "    if do_plot_post_process:\n",
    "        plot(2, X_list, Y_list, Xt_list, Yt_list, test_index, est_Y_test, grids, quantiles_grid_Y, dir_name, name)\n",
    "\n",
    "    dim_outputs = 2\n",
    "    Y_train = np.vstack(Y_list)\n",
    "    Y_test = np.vstack(Yt_list)\n",
    "    # analysis\n",
    "    # print(data)\n",
    "    rmse_train = np.sqrt(np.mean((est_Y_train - Y_train) ** 2))\n",
    "    predy_quantiles = quantiles_test_Y\n",
    "    length_test = np.mean(predy_quantiles[1] - predy_quantiles[0])\n",
    "    rmse_test = np.sqrt(np.mean((est_Y_test - Y_test) ** 2))\n",
    "    # print(\"rmse_reconstruction: {}\".format(rmse_train))\n",
    "    # print(\"rmse_predtiction: {}\".format(rmse_test))\n",
    "    # print(\"average length of CI: {}\".format(length_test))\n",
    "    # import pdb; pdb.set_trace()\n",
    "    # compute coverage rate\n",
    "    CN = np.zeros(dim_outputs)\n",
    "    TT = np.zeros(dim_outputs)\n",
    "    for i in range(Y_test.shape[0]):\n",
    "        if Y_test[i] > predy_quantiles[0, i] and Y_test[i] < predy_quantiles[1, i]:\n",
    "            CN[test_index[i]] += 1\n",
    "        TT[test_index[i]] += 1\n",
    "    CR = CN/TT\n",
    "    # print(\"coverage rate\", CR)\n",
    "    return rmse_train, rmse_test, length_test, CR"
   ],
   "metadata": {
    "collapsed": false,
    "pycharm": {
     "name": "#%%\n"
    }
   }
  },
  {
   "cell_type": "code",
   "execution_count": 36,
   "outputs": [
    {
     "name": "stdout",
     "output_type": "stream",
     "text": [
      "rmse_predtiction: 1.6402989821226122 8.167605275169826e-14\n",
      "average length of CI: 3.185109202791763 3.0234462916586963e-13\n",
      "coverage rate: 0.875 0.0\n"
     ]
    }
   ],
   "source": [
    "data = \"sim_illustration_varying_freq\"\n",
    "\n",
    "rmse_test_list = list()\n",
    "length_test_list = list()\n",
    "CR_list = list()\n",
    "for i in range(10):\n",
    "    rmse_train, rmse_test, length_test, CR = GPR(data)\n",
    "    rmse_test_list.append(rmse_test)\n",
    "    length_test_list.append(length_test)\n",
    "    CR_list.append(CR.mean())\n",
    "rmse_test_array = np.array(rmse_test_list)\n",
    "length_test_array = np.array(length_test_list)\n",
    "CR_array = np.array(CR_list)\n",
    "print(\"rmse_predtiction:\", rmse_test_array.mean(), rmse_test_array.std())\n",
    "print(\"average length of CI:\", length_test_array.mean(), length_test_array.std())\n",
    "print(\"coverage rate:\", CR_array.mean(), CR_array.std())"
   ],
   "metadata": {
    "collapsed": false,
    "pycharm": {
     "name": "#%%\n"
    }
   }
  },
  {
   "cell_type": "code",
   "execution_count": 37,
   "outputs": [
    {
     "name": "stdout",
     "output_type": "stream",
     "text": [
      "rmse_predtiction: 2.247020180379943 1.3338402574740823e-13\n",
      "average length of CI: 2.1784392207206147 1.8767732273446515e-13\n",
      "coverage rate: 0.835 0.0\n"
     ]
    }
   ],
   "source": [
    "data = \"sim_illustration_low_freq\"\n",
    "\n",
    "rmse_test_list = list()\n",
    "length_test_list = list()\n",
    "CR_list = list()\n",
    "for i in range(10):\n",
    "    rmse_train, rmse_test, length_test, CR = GPR(data)\n",
    "    rmse_test_list.append(rmse_test)\n",
    "    length_test_list.append(length_test)\n",
    "    CR_list.append(CR.mean())\n",
    "rmse_test_array = np.array(rmse_test_list)\n",
    "length_test_array = np.array(length_test_list)\n",
    "CR_array = np.array(CR_list)\n",
    "print(\"rmse_predtiction:\", rmse_test_array.mean(), rmse_test_array.std())\n",
    "print(\"average length of CI:\", length_test_array.mean(), length_test_array.std())\n",
    "print(\"coverage rate:\", CR_array.mean(), CR_array.std())"
   ],
   "metadata": {
    "collapsed": false,
    "pycharm": {
     "name": "#%%\n"
    }
   }
  },
  {
   "cell_type": "code",
   "execution_count": 38,
   "outputs": [
    {
     "name": "stdout",
     "output_type": "stream",
     "text": [
      "rmse_predtiction: 1.5068931903383582 6.005536950820616e-14\n",
      "average length of CI: 3.1701422917603272 1.2966636873879597e-13\n",
      "coverage rate: 0.9149999999999998 2.220446049250313e-16\n"
     ]
    }
   ],
   "source": [
    "data = \"sim_illustration_high_freq\"\n",
    "\n",
    "rmse_test_list = list()\n",
    "length_test_list = list()\n",
    "CR_list = list()\n",
    "for i in range(10):\n",
    "    rmse_train, rmse_test, length_test, CR = GPR(data)\n",
    "    rmse_test_list.append(rmse_test)\n",
    "    length_test_list.append(length_test)\n",
    "    CR_list.append(CR.mean())\n",
    "rmse_test_array = np.array(rmse_test_list)\n",
    "length_test_array = np.array(length_test_list)\n",
    "CR_array = np.array(CR_list)\n",
    "print(\"rmse_predtiction:\", rmse_test_array.mean(), rmse_test_array.std())\n",
    "print(\"average length of CI:\", length_test_array.mean(), length_test_array.std())\n",
    "print(\"coverage rate:\", CR_array.mean(), CR_array.std())"
   ],
   "metadata": {
    "collapsed": false,
    "pycharm": {
     "name": "#%%\n"
    }
   }
  },
  {
   "cell_type": "code",
   "execution_count": null,
   "outputs": [],
   "source": [],
   "metadata": {
    "collapsed": false,
    "pycharm": {
     "name": "#%%\n"
    }
   }
  }
 ],
 "metadata": {
  "kernelspec": {
   "display_name": "Python 3",
   "language": "python",
   "name": "python3"
  },
  "language_info": {
   "codemirror_mode": {
    "name": "ipython",
    "version": 2
   },
   "file_extension": ".py",
   "mimetype": "text/x-python",
   "name": "python",
   "nbconvert_exporter": "python",
   "pygments_lexer": "ipython2",
   "version": "2.7.6"
  }
 },
 "nbformat": 4,
 "nbformat_minor": 0
}