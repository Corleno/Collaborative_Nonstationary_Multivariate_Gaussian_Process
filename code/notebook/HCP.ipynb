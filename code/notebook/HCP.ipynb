{
 "cells": [
  {
   "cell_type": "code",
   "execution_count": 4,
   "metadata": {
    "collapsed": true
   },
   "outputs": [],
   "source": [
    "import numpy as np\n",
    "import pandas as pd\n",
    "import pickle\n"
   ]
  },
  {
   "cell_type": "code",
   "execution_count": 6,
   "outputs": [],
   "source": [
    "# load data\n",
    "data_dir = \"../../data/HCP/990366_15.txt\"\n",
    "df = pd.read_csv(data_dir, header=None, sep=\" \")"
   ],
   "metadata": {
    "collapsed": false,
    "pycharm": {
     "name": "#%%\n"
    }
   }
  },
  {
   "cell_type": "code",
   "execution_count": 7,
   "outputs": [],
   "source": [
    "df\n",
    "N, M = df.shape"
   ],
   "metadata": {
    "collapsed": false,
    "pycharm": {
     "name": "#%%\n"
    }
   }
  },
  {
   "cell_type": "code",
   "execution_count": 8,
   "outputs": [],
   "source": [
    "from sklearn import preprocessing\n",
    "X_list = list()\n",
    "Y_list = list()\n",
    "for i in range(M):\n",
    "    X_list.append(np.arange(N))\n",
    "    Y_list.append(preprocessing.scale(df.iloc[:, i].to_numpy()))"
   ],
   "metadata": {
    "collapsed": false,
    "pycharm": {
     "name": "#%%\n"
    }
   }
  },
  {
   "cell_type": "code",
   "execution_count": 9,
   "outputs": [],
   "source": [
    "test_index = np.random.choice(N, int(0.2*N), replace=False)\n",
    "train_index = np.array(list(set(np.arange(N)) - set(test_index)))\n",
    "Xtrain_list = [X_list[0][train_index]] + X_list[1:]\n",
    "Ytrain_list = [Y_list[0][train_index]] + Y_list[1:]\n",
    "Xtest_list = [X_list[0][test_index]] + [np.array([]) for i in range(M-1)]\n",
    "Ytest_list = [Y_list[0][test_index]] + [np.array([]) for i in range(M-1)]\n",
    "with open(\"../../data/HCP/data.pickle\", \"wb\") as res:\n",
    "    pickle.dump([Xtrain_list, Ytrain_list, Xtest_list, Ytest_list], res)"
   ],
   "metadata": {
    "collapsed": false,
    "pycharm": {
     "name": "#%% We extract 20% of the first component as training data and let others as testing data\n"
    }
   }
  },
  {
   "cell_type": "code",
   "execution_count": 10,
   "outputs": [
    {
     "name": "stdout",
     "output_type": "stream",
     "text": [
      "training size: (71040,)\n",
      "testing size: (960,)\n"
     ]
    },
    {
     "data": {
      "text/plain": "(3840,)"
     },
     "execution_count": 10,
     "metadata": {},
     "output_type": "execute_result"
    }
   ],
   "source": [
    "print(\"training size: {}\".format(np.concatenate(Xtrain_list).shape))\n",
    "print(\"testing size: {}\".format(np.concatenate(Xtest_list).shape))\n",
    "X_list[1:]\n",
    "Xtrain_list[0].shape\n",
    "train_index.shape"
   ],
   "metadata": {
    "collapsed": false,
    "pycharm": {
     "name": "#%%\n"
    }
   }
  },
  {
   "cell_type": "code",
   "execution_count": null,
   "outputs": [],
   "source": [],
   "metadata": {
    "collapsed": false,
    "pycharm": {
     "name": "#%%\n"
    }
   }
  }
 ],
 "metadata": {
  "kernelspec": {
   "display_name": "Python 3",
   "language": "python",
   "name": "python3"
  },
  "language_info": {
   "codemirror_mode": {
    "name": "ipython",
    "version": 2
   },
   "file_extension": ".py",
   "mimetype": "text/x-python",
   "name": "python",
   "nbconvert_exporter": "python",
   "pygments_lexer": "ipython2",
   "version": "2.7.6"
  }
 },
 "nbformat": 4,
 "nbformat_minor": 0
}